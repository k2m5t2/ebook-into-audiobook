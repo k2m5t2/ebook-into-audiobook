{
 "cells": [
  {
   "cell_type": "code",
   "execution_count": 9,
   "metadata": {},
   "outputs": [],
   "source": [
    "# !py -3.11 -m pip install ttstokenizer"
   ]
  },
  {
   "cell_type": "code",
   "execution_count": 10,
   "metadata": {},
   "outputs": [],
   "source": [
    "import onnxruntime\n",
    "import soundfile as sf\n",
    "import yaml\n",
    "\n",
    "from ttstokenizer import TTSTokenizer"
   ]
  },
  {
   "cell_type": "code",
   "execution_count": 17,
   "metadata": {},
   "outputs": [],
   "source": [
    "# This example assumes the files have been downloaded locally\n",
    "with open(\"jlspeech-jets-onnx/config.yaml\", \"r\", encoding=\"utf-8\") as f:\n",
    "    config = yaml.safe_load(f)\n",
    "\n",
    "# Create model\n",
    "model = onnxruntime.InferenceSession(\n",
    "    \"jlspeech-jets-onnx/model.onnx\",\n",
    "    providers=[\"CPUExecutionProvider\"]\n",
    ")\n",
    "\n",
    "# Create tokenizer\n",
    "tokenizer = TTSTokenizer(config[\"token\"][\"list\"])\n",
    "\n",
    "# Tokenize inputs\n",
    "inputs = tokenizer(\"Hello, world!\")\n",
    "# inputs = tokenizer(\"import {InferenceSession as InferenceSessionImpl} from './inference-session-impl.js';\")\n",
    "\n",
    "# Generate speech\n",
    "outputs = model.run(None, {\"text\": inputs})\n",
    "\n",
    "# Write to file\n",
    "sf.write(\"out.wav\", outputs[0], 22050)\n"
   ]
  },
  {
   "cell_type": "code",
   "execution_count": 18,
   "metadata": {},
   "outputs": [
    {
     "name": "stdout",
     "output_type": "stream",
     "text": [
      "[26  2  8 34 23 16 38  8  5 72]\n"
     ]
    }
   ],
   "source": [
    "print(inputs)"
   ]
  },
  {
   "cell_type": "markdown",
   "metadata": {},
   "source": []
  },
  {
   "cell_type": "code",
   "execution_count": null,
   "metadata": {},
   "outputs": [],
   "source": []
  }
 ],
 "metadata": {
  "kernelspec": {
   "display_name": "Python 3",
   "language": "python",
   "name": "python3"
  },
  "language_info": {
   "codemirror_mode": {
    "name": "ipython",
    "version": 3
   },
   "file_extension": ".py",
   "mimetype": "text/x-python",
   "name": "python",
   "nbconvert_exporter": "python",
   "pygments_lexer": "ipython3",
   "version": "3.11.6"
  }
 },
 "nbformat": 4,
 "nbformat_minor": 2
}
